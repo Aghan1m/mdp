{
 "cells": [
  {
   "cell_type": "code",
   "execution_count": 44,
   "metadata": {},
   "outputs": [
    {
     "name": "stderr",
     "output_type": "stream",
     "text": [
      "/Library/Frameworks/Python.framework/Versions/3.7/lib/python3.7/site-packages/ipykernel_launcher.py:7: ParserWarning: Falling back to the 'python' engine because the 'c' engine does not support regex separators (separators > 1 char and different from '\\s+' are interpreted as regex); you can avoid this warning by specifying engine='python'.\n",
      "  import sys\n"
     ]
    },
    {
     "name": "stdout",
     "output_type": "stream",
     "text": [
      "<bound method NDFrame.head of                                                song_name  \\\n",
      "0                             Shelly - (日剧《夏洛克：未叙之章》主题曲)   \n",
      "1                                      FULLMETAL TRIGGER   \n",
      "2                    Knock U down - (TBS《CDTV》12・1月份开场曲)   \n",
      "3                 Don't (LIVE:2019/6/18 @Zepp DiverCity)   \n",
      "4      愛のために ～for love, for a child～ - (为了爱～for love,...   \n",
      "...                                                  ...   \n",
      "10302                                         No Excuses   \n",
      "10303                                       All the Time   \n",
      "10304                                     No New Friends   \n",
      "10305                                          Happy Now   \n",
      "10306  CAN'T STOP THE FEELING! (Original Song From Dr...   \n",
      "\n",
      "                             singer     song_id    album_id  rating  timestamp  \n",
      "0                      DEAN FUJIOKA  1406131972  2819914042       1  130000000  \n",
      "1      THE RAMPAGE from EXILE TRIBE  1408601639  2819914042       1  130000000  \n",
      "2                              水樹奈々  1407987266  2819914042       1  130000000  \n",
      "3                       NakamuraEmi  1407245276  2819914042       1  130000000  \n",
      "4                             EXILE  1408605111  2819914042       1  130000000  \n",
      "...                             ...         ...         ...     ...        ...  \n",
      "10302                Meghan Trainor   541687309  2993015219       1  130000000  \n",
      "10303                  Zara Larsson  1372851726  2993015219       1  130000000  \n",
      "10304        LSD/Sia/Diplo/Labrinth  1351832505  2993015219       1  130000000  \n",
      "10305               Zedd/Elley Duhé  1294817400  2993015219       1  130000000  \n",
      "10306             Justin Timberlake   411921855  2993015219       1  130000000  \n",
      "\n",
      "[10307 rows x 6 columns]>\n",
      "<bound method NDFrame.head of      [一周日语上新] 藤冈靛携新EP《Shelly》神秘来袭  2819914042              日语     (25万)  \\\n",
      "0                  遗世独立•旷远山谷的喧嚣摆脱  2750999763  New Age 治愈 轻音乐     (665)   \n",
      "1             清新小调 | 来自冬日漫步里的缱绻浪漫  3107590676        欧美 清新 浪漫    (1270)   \n",
      "2      2010年代Billboard十年单曲榜TOP100  3054732286           流行 榜单    (1566)   \n",
      "3                  把记忆写成故事，把歌谣哼成诗  3085089919        华语 流行 安静    (1190)   \n",
      "4                   一个多愁善感的韩语歌单❤️  3092209640        韩语 流行 清新     (627)   \n",
      "...                           ...         ...               ...     ...   \n",
      "1301                      舔 舐 咀 嚼  3068635149            放松 安静    (147)   \n",
      "1302               台剧 | 想见你 电视原声带  3084306961       影视原声 华语 流行    (139)   \n",
      "1303                 《误杀》电影〖原声收录】  3115990417         华语 影视原声     (122)   \n",
      "1304               网易云评论最多民谣TOP50  3112978792        华语 民谣 榜单     (538)   \n",
      "1305         『碧蓝航线』角色歌「持续更新」含发售日期  3045620722       日语 游戏 ACG     (218)   \n",
      "\n",
      "     (1820)  1889  26046324  \n",
      "0      (12)     8     37080  \n",
      "1      (14)     9     49907  \n",
      "2      (17)    13     89567  \n",
      "3       (4)    18    174790  \n",
      "4       (2)     9     47467  \n",
      "...     ...   ...       ...  \n",
      "1301    (1)     1      6365  \n",
      "1302    (2)     1      6281  \n",
      "1303    (5)    12     13325  \n",
      "1304    (1)     5      5916  \n",
      "1305    (1)    15      5492  \n",
      "\n",
      "[1306 rows x 7 columns]>\n"
     ]
    }
   ],
   "source": [
    "import pandas as pd\n",
    "# song_input = 'music_data_sample.txt'\n",
    "# list_input = 'list_data_out_sample.txt'\n",
    "song_input = 'Music_Data_Out.txt'\n",
    "list_input = 'List_Data_Out.txt'\n",
    "try:\n",
    "    song = pd.read_table(song_input, delimiter=\"--\")\n",
    "    album = pd.read_table(list_input, delimiter=\"--\")\n",
    "except:\n",
    "    pass\n",
    "\n",
    "print(song.head)\n",
    "print(album.head)"
   ]
  },
  {
   "cell_type": "code",
   "execution_count": 45,
   "metadata": {},
   "outputs": [],
   "source": [
    "import pickle\n",
    "song_dict = {}\n",
    "song_out_path = \"songs_dict.pkl\"\n",
    "for i in range(song.shape[0]):\n",
    "    song_dict[song.iloc[i, 2]] = song.iloc[i, 0]\n",
    "pickle.dump(song_dict, open(song_out_path,\"wb\"))"
   ]
  },
  {
   "cell_type": "code",
   "execution_count": 46,
   "metadata": {},
   "outputs": [],
   "source": [
    "# 生成字典\n",
    "album_id2name = {}\n",
    "album_name2id = {}\n",
    "album_id2name_out = \"album_id2name.pkl\"\n",
    "album_name2id_out = \"album_name2id.pkl\"\n",
    "for i in range(album.shape[0]):\n",
    "    album_id2name[album.iloc[i, 1]] = album.iloc[i, 0]\n",
    "    album_name2id[album.iloc[i, 0]] = album.iloc[i, 1]\n",
    "pickle.dump(album_id2name, open(album_id2name_out,\"wb\"))\n",
    "pickle.dump(album_name2id, open(album_name2id_out,\"wb\"))"
   ]
  },
  {
   "cell_type": "code",
   "execution_count": 47,
   "metadata": {},
   "outputs": [
    {
     "data": {
      "text/plain": [
       "'Knock\\xa0U\\xa0down - (TBS《CDTV》12・1月份开场曲)'"
      ]
     },
     "execution_count": 47,
     "metadata": {},
     "output_type": "execute_result"
    }
   ],
   "source": [
    "song_id2name = pickle.load(open(song_out_path,'rb'))\n",
    "song_id2name[1407987266]"
   ]
  },
  {
   "cell_type": "code",
   "execution_count": 48,
   "metadata": {},
   "outputs": [
    {
     "data": {
      "text/plain": [
       "'遗世独立•旷远山谷的喧嚣摆脱'"
      ]
     },
     "execution_count": 48,
     "metadata": {},
     "output_type": "execute_result"
    }
   ],
   "source": [
    "album_id2name = pickle.load(open(album_id2name_out,'rb'))\n",
    "album_id2name[2750999763]"
   ]
  },
  {
   "cell_type": "code",
   "execution_count": 49,
   "metadata": {},
   "outputs": [
    {
     "data": {
      "text/plain": [
       "2750999763"
      ]
     },
     "execution_count": 49,
     "metadata": {},
     "output_type": "execute_result"
    }
   ],
   "source": [
    "album_name2id = pickle.load(open(album_name2id_out,'rb'))\n",
    "album_name2id['遗世独立•旷远山谷的喧嚣摆脱']"
   ]
  },
  {
   "cell_type": "code",
   "execution_count": 50,
   "metadata": {},
   "outputs": [],
   "source": [
    "song['rating']=1\n",
    "song['timestamp']=130000000"
   ]
  },
  {
   "cell_type": "code",
   "execution_count": 51,
   "metadata": {},
   "outputs": [
    {
     "name": "stdout",
     "output_type": "stream",
     "text": [
      "         album_id     song_id  rating  timestamp\n",
      "0      2819914042  1406131972       1  130000000\n",
      "1      2819914042  1408601639       1  130000000\n",
      "2      2819914042  1407987266       1  130000000\n",
      "3      2819914042  1407245276       1  130000000\n",
      "4      2819914042  1408605111       1  130000000\n",
      "...           ...         ...     ...        ...\n",
      "10302  2993015219   541687309       1  130000000\n",
      "10303  2993015219  1372851726       1  130000000\n",
      "10304  2993015219  1351832505       1  130000000\n",
      "10305  2993015219  1294817400       1  130000000\n",
      "10306  2993015219   411921855       1  130000000\n",
      "\n",
      "[10307 rows x 4 columns]\n"
     ]
    }
   ],
   "source": [
    "surprise_data = song.drop(song.columns[0:2], axis=1)\n",
    "album_id = surprise_data.pop('album_id')\n",
    "surprise_data.insert(0, 'album_id', album_id)\n",
    "print(surprise_data)"
   ]
  },
  {
   "cell_type": "code",
   "execution_count": 52,
   "metadata": {},
   "outputs": [
    {
     "data": {
      "text/plain": [
       "['album_id', 'song_id', 'rating', 'timestamp']"
      ]
     },
     "execution_count": 52,
     "metadata": {},
     "output_type": "execute_result"
    }
   ],
   "source": [
    "list(surprise_data)"
   ]
  },
  {
   "cell_type": "code",
   "execution_count": 53,
   "metadata": {},
   "outputs": [],
   "source": [
    "data_path = \"music.csv\"\n",
    "surprise_data.to_csv(data_path, index=False, header=False)"
   ]
  },
  {
   "cell_type": "code",
   "execution_count": 54,
   "metadata": {},
   "outputs": [
    {
     "name": "stdout",
     "output_type": "stream",
     "text": [
      "开始训练模型...\n",
      "Estimating biases using als...\n",
      "Computing the msd similarity matrix...\n",
      "Done computing similarity matrix.\n",
      "Estimating biases using als...\n",
      "Computing the msd similarity matrix...\n",
      "Done computing similarity matrix.\n",
      "Estimating biases using als...\n",
      "Computing the msd similarity matrix...\n",
      "Done computing similarity matrix.\n",
      "Estimating biases using als...\n",
      "Computing the msd similarity matrix...\n",
      "Done computing similarity matrix.\n",
      "Estimating biases using als...\n",
      "Computing the msd similarity matrix...\n",
      "Done computing similarity matrix.\n"
     ]
    }
   ],
   "source": [
    "from surprise import SVD, KNNBaseline\n",
    "from surprise import Dataset, Reader\n",
    "from surprise.model_selection import cross_validate\n",
    "print(\"开始训练模型...\")\n",
    "reader = Reader(line_format='user item rating timestamp', sep=',')\n",
    "data = Dataset.load_from_file(data_path, reader=reader)\n",
    "\n",
    "algo = KNNBaseline()\n",
    "perf = cross_validate(algo, data, measures=['RMSE', 'MAE'], cv=5)\n",
    "#输出结果\n",
    "# print(algo.trainset.to_inner_uid('2750999763'))"
   ]
  },
  {
   "cell_type": "code",
   "execution_count": 55,
   "metadata": {},
   "outputs": [
    {
     "name": "stdout",
     "output_type": "stream",
     "text": [
      "歌单名称: <心动计划>触动你心跳加速的旋律\n",
      "歌单id: 2946956241\n",
      "内部id: 75\n"
     ]
    }
   ],
   "source": [
    "current_playlist = '<心动计划>触动你心跳加速的旋律'\n",
    "print(\"歌单名称:\", current_playlist)\n",
    "\n",
    "#歌单名称转歌单id\n",
    "album_id = album_name2id[current_playlist]\n",
    "print(\"歌单id:\",album_id)\n",
    "\n",
    "#歌单id转surprise内部user id\n",
    "album_inner_id = algo.trainset.to_inner_uid(str(album_id))\n",
    "print(\"内部id:\",album_inner_id)"
   ]
  },
  {
   "cell_type": "code",
   "execution_count": 18,
   "metadata": {},
   "outputs": [
    {
     "name": "stdout",
     "output_type": "stream",
     "text": [
      "和歌单 《 <心动计划>触动你心跳加速的旋律 》 最接近的10个歌单为：\n",
      "\n",
      "迷 人 嗓 音 2882042971\n",
      "♡SloMo宝藏BGM♡ 2892787946\n",
      "史诗级节奏游戏战歌 2901390761\n",
      "热播电音旋律【精选】持续更新ღ℡ 2938253157\n",
      "有事上车再说. 2881720365\n",
      "王者荣耀孙悟空战歌 （超燃）斜阳身法猴 2951679876\n",
      "[电音]纯音乐，动感强[建议耳机播放] 2951172488\n",
      "欧美精选|迷幻慵懒 飘渺轻灵 2984782686\n",
      "怦然心动 | 宝藏旋律与心动节奏的完美邂逅 2908828253\n",
      "星河滚烫，你是人间理想 3014248800\n"
     ]
    }
   ],
   "source": [
    "#根据内部id找邻近值,返回邻近的内部user id\n",
    "album_neighbors = algo.get_neighbors(album_inner_id,k=10)\n",
    "\n",
    "#把内部userid转成歌单id,再转换成歌单名称返还\n",
    "album_neighbors = (algo.trainset.to_raw_uid(inner_id) for inner_id in album_neighbors)\n",
    "# for album_id in album_neighbors:\n",
    "#     print(album_id)\n",
    "#     print(album_id2name[int(album_id)])\n",
    "album_neighbors = (album_id2name[int(album_id)] for album_id in album_neighbors)\n",
    "\n",
    "print(\"和歌单 《\", current_playlist, \"》 最相似的10个歌单为：\\n\")\n",
    "for album in album_neighbors:\n",
    "    print(album, album_name2id[album])\n",
    "#     print(\"内部uid:\", algo.trainset.to_inner_uid(str(album_name2id[album])))"
   ]
  },
  {
   "cell_type": "code",
   "execution_count": null,
   "metadata": {},
   "outputs": [],
   "source": []
  }
 ],
 "metadata": {
  "kernelspec": {
   "display_name": "Python 3",
   "language": "python",
   "name": "python3"
  },
  "language_info": {
   "codemirror_mode": {
    "name": "ipython",
    "version": 3
   },
   "file_extension": ".py",
   "mimetype": "text/x-python",
   "name": "python",
   "nbconvert_exporter": "python",
   "pygments_lexer": "ipython3",
   "version": "3.7.3"
  },
  "latex_envs": {
   "LaTeX_envs_menu_present": true,
   "autoclose": false,
   "autocomplete": true,
   "bibliofile": "biblio.bib",
   "cite_by": "apalike",
   "current_citInitial": 1,
   "eqLabelWithNumbers": true,
   "eqNumInitial": 1,
   "hotkeys": {
    "equation": "Ctrl-E",
    "itemize": "Ctrl-I"
   },
   "labels_anchors": false,
   "latex_user_defs": false,
   "report_style_numbering": false,
   "user_envs_cfg": false
  }
 },
 "nbformat": 4,
 "nbformat_minor": 2
}
